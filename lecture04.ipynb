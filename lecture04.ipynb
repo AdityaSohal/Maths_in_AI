{
 "cells": [
  {
   "cell_type": "code",
   "execution_count": null,
   "id": "c3db1e40",
   "metadata": {},
   "outputs": [],
   "source": [
    "# numm"
   ]
  }
 ],
 "metadata": {
  "language_info": {
   "name": "python"
  }
 },
 "nbformat": 4,
 "nbformat_minor": 5
}
