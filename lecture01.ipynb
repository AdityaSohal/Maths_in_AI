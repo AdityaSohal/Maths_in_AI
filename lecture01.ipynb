{
 "cells": [
  {
   "cell_type": "code",
   "execution_count": 15,
   "id": "d3665580",
   "metadata": {},
   "outputs": [],
   "source": [
    "#This code snippet is importing the NumPy library as np and creating two NumPy arrays, v and w. \n",
    "import numpy as np\n",
    "v = np.array([1,-1,2])\n",
    "w = np.array([2,5,2])"
   ]
  },
  {
   "cell_type": "code",
   "execution_count": 16,
   "id": "cbc6aebf",
   "metadata": {},
   "outputs": [
    {
     "name": "stdout",
     "output_type": "stream",
     "text": [
      "[3 4 4]\n"
     ]
    }
   ],
   "source": [
    "#sum\n",
    "print(v+w)"
   ]
  },
  {
   "cell_type": "code",
   "execution_count": 17,
   "id": "7483abff",
   "metadata": {},
   "outputs": [
    {
     "name": "stdout",
     "output_type": "stream",
     "text": [
      "[-1 -6  0]\n"
     ]
    }
   ],
   "source": [
    "#diff\n",
    "print(v-w)"
   ]
  },
  {
   "cell_type": "code",
   "execution_count": 18,
   "id": "b689ad62",
   "metadata": {},
   "outputs": [
    {
     "name": "stdout",
     "output_type": "stream",
     "text": [
      "[ 3 -3  6]\n",
      "[ 6 15  6]\n"
     ]
    }
   ],
   "source": [
    "#scaler multiplication\n",
    "print(3*v)\n",
    "print(3*w)"
   ]
  },
  {
   "cell_type": "code",
   "execution_count": 19,
   "id": "9f59aba8",
   "metadata": {},
   "outputs": [
    {
     "name": "stdout",
     "output_type": "stream",
     "text": [
      "2.449489742783178\n",
      "5.744562646538029\n"
     ]
    }
   ],
   "source": [
    "#This code snippet is calculating the Euclidean norm (also known as the magnitude or length) of two vectors `v` and `w` using NumPy\n",
    "print(np.linalg.norm(v))\n",
    "print(np.linalg.norm(w))"
   ]
  },
  {
   "cell_type": "code",
   "execution_count": 20,
   "id": "40aa2832",
   "metadata": {},
   "outputs": [
    {
     "name": "stdout",
     "output_type": "stream",
     "text": [
      "1\n"
     ]
    }
   ],
   "source": [
    "#This line of code is calculating the dot product of two arrays `v` and `w` using the `np.dot()` function from the NumPy library.\n",
    "s= np.dot(v,w);\n",
    "print (s)"
   ]
  }
 ],
 "metadata": {
  "kernelspec": {
   "display_name": "Python 3",
   "language": "python",
   "name": "python3"
  },
  "language_info": {
   "codemirror_mode": {
    "name": "ipython",
    "version": 3
   },
   "file_extension": ".py",
   "mimetype": "text/x-python",
   "name": "python",
   "nbconvert_exporter": "python",
   "pygments_lexer": "ipython3",
   "version": "3.12.5"
  }
 },
 "nbformat": 4,
 "nbformat_minor": 5
}
