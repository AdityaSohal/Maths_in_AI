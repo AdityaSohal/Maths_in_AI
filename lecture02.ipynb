{
 "cells": [
  {
   "cell_type": "code",
   "execution_count": null,
   "id": "738f8270",
   "metadata": {},
   "outputs": [],
   "source": [
    "#`import numpy as np` is a Python statement that imports the NumPy library and assigns it an alias `np`. This allows you to use functions and objects from the NumPy library by prefixing them with `np`.\n",
    "import numpy as np"
   ]
  },
  {
   "cell_type": "code",
   "execution_count": null,
   "id": "9bdd5c72",
   "metadata": {},
   "outputs": [],
   "source": [
    "p = np.array([[1,7],[2,1],[3,2]])\n",
    "print(p)"
   ]
  },
  {
   "cell_type": "code",
   "execution_count": null,
   "id": "a1e14d8b",
   "metadata": {},
   "outputs": [],
   "source": [
    "q = np.array([[1,1],[1,-1],[1,0]])\n",
    "print(q)"
   ]
  },
  {
   "cell_type": "code",
   "execution_count": null,
   "id": "47c2509b",
   "metadata": {},
   "outputs": [],
   "source": [
    "c1 = np.add(p,q)\n",
    "print(c1)"
   ]
  },
  {
   "cell_type": "code",
   "execution_count": null,
   "id": "5a50a6db",
   "metadata": {},
   "outputs": [],
   "source": [
    "c2 = np.subtract(p,q)\n",
    "print(c2)"
   ]
  },
  {
   "cell_type": "code",
   "execution_count": null,
   "id": "ba905d83",
   "metadata": {},
   "outputs": [],
   "source": [
    "r = np.array([[1,3,1],[1,0,1]])\n",
    "print(r)"
   ]
  },
  {
   "cell_type": "code",
   "execution_count": null,
   "id": "b40553d1",
   "metadata": {},
   "outputs": [],
   "source": [
    "c3 = np.dot(p,r)\n",
    "print(c3)"
   ]
  },
  {
   "cell_type": "code",
   "execution_count": null,
   "id": "615817a1",
   "metadata": {},
   "outputs": [],
   "source": [
    "det = np.linalg.det(c3)\n",
    "print(det)"
   ]
  },
  {
   "cell_type": "code",
   "execution_count": null,
   "id": "8c2cdf2f",
   "metadata": {},
   "outputs": [],
   "source": [
    "s2 = np.linalg.inv(c3)\n",
    "# LinAlgError                               Traceback (most recent call last)\n",
    "# Cell In[20], line 1\n",
    "# ----> 1 s2 = np.linalg.inv(c3)\n",
    "\n",
    "# File c:\\Users\\hp\\AppData\\Local\\Programs\\Python\\Python312\\Lib\\site-packages\\numpy\\linalg\\_linalg.py:609, in inv(a)\n",
    "#     606 signature = 'D->D' if isComplexType(t) else 'd->d'\n",
    "#     607 with errstate(call=_raise_linalgerror_singular, invalid='call',\n",
    "#     608               over='ignore', divide='ignore', under='ignore'):\n",
    "# --> 609     ainv = _umath_linalg.inv(a, signature=signature)\n",
    "#     610 return wrap(ainv.astype(result_t, copy=False))\n",
    "\n",
    "# File c:\\Users\\hp\\AppData\\Local\\Programs\\Python\\Python312\\Lib\\site-packages\\numpy\\linalg\\_linalg.py:104, in _raise_linalgerror_singular(err, flag)\n",
    "#     103 def _raise_linalgerror_singular(err, flag):\n",
    "# --> 104     raise LinAlgError(\"Singular matrix\")\n",
    "\n",
    "# LinAlgError: Singular matrix"
   ]
  },
  {
   "cell_type": "code",
   "execution_count": null,
   "id": "91fac418",
   "metadata": {},
   "outputs": [],
   "source": [
    "m = np.array([[1,-1],[2,3]])\n",
    "print(np.linalg.inv(m))"
   ]
  },
  {
   "cell_type": "code",
   "execution_count": null,
   "id": "e85eccbb",
   "metadata": {},
   "outputs": [],
   "source": []
  }
 ],
 "metadata": {
  "kernelspec": {
   "display_name": "Python 3",
   "language": "python",
   "name": "python3"
  },
  "language_info": {
   "codemirror_mode": {
    "name": "ipython",
    "version": 3
   },
   "file_extension": ".py",
   "mimetype": "text/x-python",
   "name": "python",
   "nbconvert_exporter": "python",
   "pygments_lexer": "ipython3",
   "version": "3.12.5"
  }
 },
 "nbformat": 4,
 "nbformat_minor": 5
}
